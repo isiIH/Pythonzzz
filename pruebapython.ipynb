{
 "cells": [
  {
   "cell_type": "code",
   "execution_count": 61,
   "metadata": {},
   "outputs": [],
   "source": [
    "from operator import itemgetter"
   ]
  },
  {
   "cell_type": "code",
   "execution_count": 62,
   "metadata": {},
   "outputs": [],
   "source": [
    "class Node():\n",
    "    def __init__(self,simbolo,probabilidad):\n",
    "        self.simbolo = simbolo\n",
    "        self.probabilidad = probabilidad\n",
    "        self.bitstream = \"\"\n",
    "        "
   ]
  },
  {
   "cell_type": "code",
   "execution_count": 103,
   "metadata": {},
   "outputs": [],
   "source": [
    "def obtenerprob(ruta):\n",
    "    caracteres = {}\n",
    "    totalchar = 0\n",
    "    with open(ruta) as archivo:\n",
    "        for linea in archivo:\n",
    "            for char in linea:\n",
    "                if char not in list(caracteres.keys()):\n",
    "                    caracteres[char] = 1\n",
    "                    totalchar += 1\n",
    "                else:\n",
    "                    caracteres[char] += 1\n",
    "                    totalchar += 1\n",
    "    caracteres = sorted(caracteres.items(),key=itemgetter(1),reverse=True)\n",
    "    caracteres_ordenados = []\n",
    "    for tupla in caracteres:\n",
    "        elem = Node(tupla[0],tupla[1]/totalchar)\n",
    "        caracteres_ordenados.append(elem)\n",
    "    return caracteres_ordenados\n"
   ]
  },
  {
   "cell_type": "code",
   "execution_count": 72,
   "metadata": {},
   "outputs": [],
   "source": [
    "def particion(lista,l,r,lprob,rprob):\n",
    "    if(l != r-1):\n",
    "        if(lprob > rprob):\n",
    "            r -= 1\n",
    "            rprob += lista[r].probabilidad\n",
    "        else:\n",
    "            l += 1\n",
    "            lprob += lista[l].probabilidad\n",
    "        \n",
    "        return particion(lista, l, r, lprob, rprob)\n",
    "    \n",
    "    return l\n"
   ]
  },
  {
   "cell_type": "code",
   "execution_count": 73,
   "metadata": {},
   "outputs": [],
   "source": [
    "def asignacodigo(lista,l,r):\n",
    "    if l<r:\n",
    "        p = particion(lista,l,r,lista[l].probabilidad,lista[r].probabilidad)\n",
    "        for i in range(l,r+1):\n",
    "            if i<=p:\n",
    "                lista[i].bitstream += \"1\"\n",
    "            else:\n",
    "                lista[i].bitstream += \"0\"\n",
    "        asignacodigo(lista,l,p)\n",
    "        asignacodigo(lista,p+1,r)"
   ]
  },
  {
   "cell_type": "code",
   "execution_count": 83,
   "metadata": {},
   "outputs": [],
   "source": [
    "def busquedasecuencial(lista,x):\n",
    "    for i in range(len(lista)):\n",
    "        if x == lista[i].simbolo:\n",
    "            return i\n",
    "    return -1"
   ]
  },
  {
   "cell_type": "code",
   "execution_count": 108,
   "metadata": {},
   "outputs": [],
   "source": [
    "def encode(caracteres_ordenados,rutadondedejar,rutadondeselee):\n",
    "    f = open(rutadondedejar,\"w\")\n",
    "    try:\n",
    "        with open(rutadondeselee,\"r\") as archivo:\n",
    "            for linea in archivo:\n",
    "                for caracter in linea:\n",
    "                    i = 0\n",
    "                    \n",
    "                    while caracter != caracteres_ordenados[i].simbolo and i<len(caracteres_ordenados):\n",
    "                        i += 1\n",
    "                    \n",
    "                    f.write(caracteres_ordenados[i].bitstream)\n",
    "    finally:\n",
    "        f.close()"
   ]
  },
  {
   "cell_type": "code",
   "execution_count": 134,
   "metadata": {},
   "outputs": [],
   "source": [
    "def decode(rutadondeleer,lista,rutadondedejar):\n",
    "    f = open(rutadondedejar,\"w\")\n",
    "    with open(rutadondeleer,\"r\") as lineacodificada:\n",
    "        for linea in lineacodificada:\n",
    "            maximo = len(linea)\n",
    "            i = 0\n",
    "            l = 0\n",
    "            r = len(lista[i].bitstream)\n",
    "            codigo_leido = linea[l:r]\n",
    "            while codigo_leido != lista[i].bitstream:\n",
    "                i += 1\n",
    "                if len(codigo_leido) > len(lista[i-1].bitstream):\n",
    "                    r = r + len(codigo_leido) - len(lista[i-1].bitstream)\n",
    "                \n",
    "            \n",
    "\n",
    "                "
   ]
  },
  {
   "cell_type": "code",
   "execution_count": 135,
   "metadata": {},
   "outputs": [
    {
     "name": "stdout",
     "output_type": "stream",
     "text": [
      "11\n",
      "\n"
     ]
    },
    {
     "ename": "IndexError",
     "evalue": "list index out of range",
     "output_type": "error",
     "traceback": [
      "\u001b[1;31m---------------------------------------------------------------------------\u001b[0m",
      "\u001b[1;31mIndexError\u001b[0m                                Traceback (most recent call last)",
      "\u001b[1;32mc:\\Users\\gravi\\OneDrive\\Documentos\\GitHub\\Pythonzzz\\pruebapython.ipynb Cell 9'\u001b[0m in \u001b[0;36m<cell line: 4>\u001b[1;34m()\u001b[0m\n\u001b[0;32m      <a href='vscode-notebook-cell:/c%3A/Users/gravi/OneDrive/Documentos/GitHub/Pythonzzz/pruebapython.ipynb#ch0000006?line=1'>2</a>\u001b[0m asignacodigo(caracteres_ordenados,\u001b[39m0\u001b[39m,\u001b[39mlen\u001b[39m(caracteres_ordenados)\u001b[39m-\u001b[39m\u001b[39m1\u001b[39m)\n\u001b[0;32m      <a href='vscode-notebook-cell:/c%3A/Users/gravi/OneDrive/Documentos/GitHub/Pythonzzz/pruebapython.ipynb#ch0000006?line=2'>3</a>\u001b[0m encode(caracteres_ordenados,\u001b[39m\"\u001b[39m\u001b[39marchivos/prueballanca.txt\u001b[39m\u001b[39m\"\u001b[39m,\u001b[39m\"\u001b[39m\u001b[39marchivos/pr.txt\u001b[39m\u001b[39m\"\u001b[39m)\n\u001b[1;32m----> <a href='vscode-notebook-cell:/c%3A/Users/gravi/OneDrive/Documentos/GitHub/Pythonzzz/pruebapython.ipynb#ch0000006?line=3'>4</a>\u001b[0m decode(\u001b[39m\"\u001b[39;49m\u001b[39marchivos/prueballanca.txt\u001b[39;49m\u001b[39m\"\u001b[39;49m,caracteres_ordenados,\u001b[39m\"\u001b[39;49m\u001b[39marchivos/prueballanca2.txt\u001b[39;49m\u001b[39m\"\u001b[39;49m)\n",
      "\u001b[1;32mc:\\Users\\gravi\\OneDrive\\Documentos\\GitHub\\Pythonzzz\\pruebapython.ipynb Cell 8'\u001b[0m in \u001b[0;36mdecode\u001b[1;34m(rutadondeleer, lista, rutadondedejar)\u001b[0m\n\u001b[0;32m     <a href='vscode-notebook-cell:/c%3A/Users/gravi/OneDrive/Documentos/GitHub/Pythonzzz/pruebapython.ipynb#ch0000012?line=10'>11</a>\u001b[0m \u001b[39mwhile\u001b[39;00m codigo_leido \u001b[39m!=\u001b[39m lista[i]\u001b[39m.\u001b[39mbitstream:\n\u001b[0;32m     <a href='vscode-notebook-cell:/c%3A/Users/gravi/OneDrive/Documentos/GitHub/Pythonzzz/pruebapython.ipynb#ch0000012?line=11'>12</a>\u001b[0m     i \u001b[39m+\u001b[39m\u001b[39m=\u001b[39m \u001b[39m1\u001b[39m\n\u001b[1;32m---> <a href='vscode-notebook-cell:/c%3A/Users/gravi/OneDrive/Documentos/GitHub/Pythonzzz/pruebapython.ipynb#ch0000012?line=12'>13</a>\u001b[0m     actual \u001b[39m=\u001b[39m \u001b[39mlen\u001b[39m(lista[i]\u001b[39m.\u001b[39mbitstream)\n\u001b[0;32m     <a href='vscode-notebook-cell:/c%3A/Users/gravi/OneDrive/Documentos/GitHub/Pythonzzz/pruebapython.ipynb#ch0000012?line=13'>14</a>\u001b[0m     \u001b[39mif\u001b[39;00m actual \u001b[39m>\u001b[39m \u001b[39mlen\u001b[39m(lista[i\u001b[39m-\u001b[39m\u001b[39m1\u001b[39m]\u001b[39m.\u001b[39mbitstream):\n\u001b[0;32m     <a href='vscode-notebook-cell:/c%3A/Users/gravi/OneDrive/Documentos/GitHub/Pythonzzz/pruebapython.ipynb#ch0000012?line=14'>15</a>\u001b[0m         r \u001b[39m+\u001b[39m\u001b[39m=\u001b[39m \u001b[39m1\u001b[39m\n",
      "\u001b[1;31mIndexError\u001b[0m: list index out of range"
     ]
    }
   ],
   "source": [
    "caracteres_ordenados = obtenerprob(\"archivos/pr.txt\")\n",
    "asignacodigo(caracteres_ordenados,0,len(caracteres_ordenados)-1)\n",
    "encode(caracteres_ordenados,\"archivos/prueballanca.txt\",\"archivos/pr.txt\")\n",
    "decode(\"archivos/prueballanca.txt\",caracteres_ordenados,\"archivos/prueballanca2.txt\")"
   ]
  },
  {
   "cell_type": "code",
   "execution_count": 104,
   "metadata": {},
   "outputs": [],
   "source": []
  },
  {
   "cell_type": "code",
   "execution_count": null,
   "metadata": {},
   "outputs": [],
   "source": []
  }
 ],
 "metadata": {
  "interpreter": {
   "hash": "693f3bc056fa756bc25dbd3d8b68511bdd0b2e61b3684ef441922097ea9b28d1"
  },
  "kernelspec": {
   "display_name": "Python 3.10.4 ('info147')",
   "language": "python",
   "name": "python3"
  },
  "language_info": {
   "codemirror_mode": {
    "name": "ipython",
    "version": 3
   },
   "file_extension": ".py",
   "mimetype": "text/x-python",
   "name": "python",
   "nbconvert_exporter": "python",
   "pygments_lexer": "ipython3",
   "version": "3.10.4"
  },
  "orig_nbformat": 4
 },
 "nbformat": 4,
 "nbformat_minor": 2
}
